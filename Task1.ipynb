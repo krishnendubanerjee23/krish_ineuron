{
 "cells": [
  {
   "cell_type": "markdown",
   "id": "b9d9548e",
   "metadata": {},
   "source": [
    "s = \"this is My First Python programming class and i am learNING python string and its function\"\n",
    "1 . Try to extract data from index one to index 300 with a jump of 3 \n"
   ]
  },
  {
   "cell_type": "code",
   "execution_count": 129,
   "id": "22a8c11c",
   "metadata": {},
   "outputs": [],
   "source": [
    "s = \"this is My First Python programming class and i am learNING python string and its function\""
   ]
  },
  {
   "cell_type": "code",
   "execution_count": 4,
   "id": "7fd18cd5",
   "metadata": {},
   "outputs": [
    {
     "data": {
      "text/plain": [
       "'h   r tnrrmglsnimeNGyosi dtfco'"
      ]
     },
     "execution_count": 4,
     "metadata": {},
     "output_type": "execute_result"
    }
   ],
   "source": [
    "s[1:300:3]"
   ]
  },
  {
   "cell_type": "markdown",
   "id": "d897f856",
   "metadata": {},
   "source": [
    "2. Try to reverse a string without using reverse function "
   ]
  },
  {
   "cell_type": "code",
   "execution_count": 5,
   "id": "16f9e1dc",
   "metadata": {},
   "outputs": [
    {
     "data": {
      "text/plain": [
       "'noitcnuf sti dna gnirts nohtyp GNINrael ma i dna ssalc gnimmargorp nohtyP tsriF yM si siht'"
      ]
     },
     "execution_count": 5,
     "metadata": {},
     "output_type": "execute_result"
    }
   ],
   "source": [
    "s[::-1]"
   ]
  },
  {
   "cell_type": "markdown",
   "id": "468d3475",
   "metadata": {},
   "source": [
    "3. Try to split a string after conversion of entire string in uppercase "
   ]
  },
  {
   "cell_type": "code",
   "execution_count": 9,
   "id": "0e667787",
   "metadata": {},
   "outputs": [
    {
     "data": {
      "text/plain": [
       "'THIS IS MY FIRST PYTHON PROGRAMMING CLASS AND I AM LEARNING PYTHON STRING AND ITS FUNCTION'"
      ]
     },
     "execution_count": 9,
     "metadata": {},
     "output_type": "execute_result"
    }
   ],
   "source": [
    "s.upper()"
   ]
  },
  {
   "cell_type": "code",
   "execution_count": 10,
   "id": "141871c1",
   "metadata": {},
   "outputs": [
    {
     "data": {
      "text/plain": [
       "['this',\n",
       " 'is',\n",
       " 'My',\n",
       " 'First',\n",
       " 'Python',\n",
       " 'programming',\n",
       " 'class',\n",
       " 'and',\n",
       " 'i',\n",
       " 'am',\n",
       " 'learNING',\n",
       " 'python',\n",
       " 'string',\n",
       " 'and',\n",
       " 'its',\n",
       " 'function']"
      ]
     },
     "execution_count": 10,
     "metadata": {},
     "output_type": "execute_result"
    }
   ],
   "source": [
    "s.split(' ')"
   ]
  },
  {
   "cell_type": "markdown",
   "id": "4f6397f8",
   "metadata": {},
   "source": [
    "4. try to convert the whole string into lower case "
   ]
  },
  {
   "cell_type": "code",
   "execution_count": 11,
   "id": "0f548675",
   "metadata": {},
   "outputs": [
    {
     "data": {
      "text/plain": [
       "'this is my first python programming class and i am learning python string and its function'"
      ]
     },
     "execution_count": 11,
     "metadata": {},
     "output_type": "execute_result"
    }
   ],
   "source": [
    "s.lower()"
   ]
  },
  {
   "cell_type": "markdown",
   "id": "2235211a",
   "metadata": {},
   "source": [
    "5 . Try to capitalize the whole string "
   ]
  },
  {
   "cell_type": "code",
   "execution_count": 12,
   "id": "50e53af6",
   "metadata": {},
   "outputs": [
    {
     "data": {
      "text/plain": [
       "'This is my first python programming class and i am learning python string and its function'"
      ]
     },
     "execution_count": 12,
     "metadata": {},
     "output_type": "execute_result"
    }
   ],
   "source": [
    "s.capitalize()"
   ]
  },
  {
   "cell_type": "markdown",
   "id": "fbae44f7",
   "metadata": {},
   "source": [
    "6 . Write a difference between isalnum() and isalpha()\n",
    "Ans : If the variable define string  only contains alphabet like a-z then  isalpha() method shows true else false. If the variable define string contains alphabet and number then isalnum()method shows true else false.\n"
   ]
  },
  {
   "cell_type": "code",
   "execution_count": 78,
   "id": "a6156387",
   "metadata": {},
   "outputs": [],
   "source": [
    "sa=\"india12\""
   ]
  },
  {
   "cell_type": "code",
   "execution_count": 79,
   "id": "745222b4",
   "metadata": {},
   "outputs": [
    {
     "data": {
      "text/plain": [
       "False"
      ]
     },
     "execution_count": 79,
     "metadata": {},
     "output_type": "execute_result"
    }
   ],
   "source": [
    "sa.isalpha()"
   ]
  },
  {
   "cell_type": "code",
   "execution_count": 83,
   "id": "11aa7e1e",
   "metadata": {},
   "outputs": [],
   "source": [
    "sb = '@*%'"
   ]
  },
  {
   "cell_type": "code",
   "execution_count": 84,
   "id": "7dee32e7",
   "metadata": {},
   "outputs": [
    {
     "data": {
      "text/plain": [
       "False"
      ]
     },
     "execution_count": 84,
     "metadata": {},
     "output_type": "execute_result"
    }
   ],
   "source": [
    "sb.isalnum()"
   ]
  },
  {
   "cell_type": "markdown",
   "id": "342b7750",
   "metadata": {},
   "source": [
    "7. Try to give an example of expand tab"
   ]
  },
  {
   "cell_type": "code",
   "execution_count": 23,
   "id": "64944abe",
   "metadata": {},
   "outputs": [],
   "source": [
    "sb='krishnendu\\tbanerjee\\tkolkata'"
   ]
  },
  {
   "cell_type": "code",
   "execution_count": 25,
   "id": "184ba2a8",
   "metadata": {},
   "outputs": [
    {
     "data": {
      "text/plain": [
       "'krishnendu      banerjee        kolkata'"
      ]
     },
     "execution_count": 25,
     "metadata": {},
     "output_type": "execute_result"
    }
   ],
   "source": [
    "sb.expandtabs()"
   ]
  },
  {
   "cell_type": "markdown",
   "id": "9ab85129",
   "metadata": {},
   "source": [
    "8 . Give an example of strip , lstrip and rstrip "
   ]
  },
  {
   "cell_type": "code",
   "execution_count": 56,
   "id": "fc5c6a0b",
   "metadata": {},
   "outputs": [],
   "source": [
    "ss = \"  krish  \""
   ]
  },
  {
   "cell_type": "code",
   "execution_count": 58,
   "id": "4021ea30",
   "metadata": {},
   "outputs": [
    {
     "data": {
      "text/plain": [
       "'krish'"
      ]
     },
     "execution_count": 58,
     "metadata": {},
     "output_type": "execute_result"
    }
   ],
   "source": [
    "ss.strip()"
   ]
  },
  {
   "cell_type": "code",
   "execution_count": 85,
   "id": "93426ac2",
   "metadata": {},
   "outputs": [
    {
     "data": {
      "text/plain": [
       "'krish  '"
      ]
     },
     "execution_count": 85,
     "metadata": {},
     "output_type": "execute_result"
    }
   ],
   "source": [
    "ss.lstrip()"
   ]
  },
  {
   "cell_type": "code",
   "execution_count": 86,
   "id": "e7241d22",
   "metadata": {},
   "outputs": [
    {
     "data": {
      "text/plain": [
       "'  krish'"
      ]
     },
     "execution_count": 86,
     "metadata": {},
     "output_type": "execute_result"
    }
   ],
   "source": [
    "ss.rstrip()"
   ]
  },
  {
   "cell_type": "markdown",
   "id": "4d5adcfa",
   "metadata": {},
   "source": [
    "9.  Replace a string charecter by another charector by taking your own example "
   ]
  },
  {
   "cell_type": "code",
   "execution_count": 87,
   "id": "67ced9db",
   "metadata": {},
   "outputs": [],
   "source": [
    "sd='Krishnendu'"
   ]
  },
  {
   "cell_type": "code",
   "execution_count": 90,
   "id": "4bebce46",
   "metadata": {},
   "outputs": [
    {
     "data": {
      "text/plain": [
       "'KrishLeLdu'"
      ]
     },
     "execution_count": 90,
     "metadata": {},
     "output_type": "execute_result"
    }
   ],
   "source": [
    "sd.replace('n', 'L')"
   ]
  },
  {
   "cell_type": "markdown",
   "id": "9ff39b38",
   "metadata": {},
   "source": [
    "10 . Try  to give a defination of string center function with and exmple \n",
    "  Ans: string center () method  makes the veriavle define string in center position and the rest blank space can be replace by        the specified character ."
   ]
  },
  {
   "cell_type": "code",
   "execution_count": 124,
   "id": "4e475a98",
   "metadata": {},
   "outputs": [],
   "source": [
    "sl='rosee'"
   ]
  },
  {
   "cell_type": "code",
   "execution_count": 126,
   "id": "e2ae1c66",
   "metadata": {},
   "outputs": [
    {
     "data": {
      "text/plain": [
       "'ZZZroseeZZZZ'"
      ]
     },
     "execution_count": 126,
     "metadata": {},
     "output_type": "execute_result"
    }
   ],
   "source": [
    "sl.center(12,'Z')"
   ]
  },
  {
   "cell_type": "markdown",
   "id": "344f5543",
   "metadata": {},
   "source": [
    "11 . Write your own definition of compiler and interpreter without copy paste form internet in your own language\n",
    "\n",
    "Ans: Interpreter translate only single sentence of a program into machine code as per ascii table and compiler scan the all sentences of a program and transfer it to the machine code as per the ascii table."
   ]
  },
  {
   "cell_type": "markdown",
   "id": "028947e4",
   "metadata": {},
   "source": [
    "12 . Python is a interpreted of compiled language give a clear ans with your understanding \n",
    "\n",
    "Ans: Yes Python is interpreted of compiled language. As the Python code is executed line by line so it interpreted in to machine code  and  the source code has been written in two ways one is interactive mode that is Python prompt and other is script mode."
   ]
  },
  {
   "cell_type": "code",
   "execution_count": 128,
   "id": "d815c970",
   "metadata": {},
   "outputs": [
    {
     "data": {
      "text/plain": [
       "True"
      ]
     },
     "execution_count": 128,
     "metadata": {},
     "output_type": "execute_result"
    }
   ],
   "source": [
    "s.isascii()"
   ]
  },
  {
   "cell_type": "markdown",
   "id": "0d899583",
   "metadata": {},
   "source": [
    "13 . Try to write a usecase of python with your understanding .\n",
    "Ans:  Ans. Python has broad spectrum of usages. Python is use in data science ,automation, web development, machine learning, deep learning, education purpose , testing ,system administration etc. \n",
    "eg: In retails banking python program is using for data transfer and manipulation and analysis, also use in digital marketing for analysis the customer searching behaviour and push them product.  \n"
   ]
  },
  {
   "cell_type": "code",
   "execution_count": null,
   "id": "b859e577",
   "metadata": {},
   "outputs": [],
   "source": []
  }
 ],
 "metadata": {
  "kernelspec": {
   "display_name": "Python 3 (ipykernel)",
   "language": "python",
   "name": "python3"
  },
  "language_info": {
   "codemirror_mode": {
    "name": "ipython",
    "version": 3
   },
   "file_extension": ".py",
   "mimetype": "text/x-python",
   "name": "python",
   "nbconvert_exporter": "python",
   "pygments_lexer": "ipython3",
   "version": "3.9.7"
  }
 },
 "nbformat": 4,
 "nbformat_minor": 5
}
